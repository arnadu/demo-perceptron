{
 "cells": [
  {
   "cell_type": "code",
   "execution_count": 3,
   "id": "f96749ab-a22d-420b-ba2d-04ae3232a2d3",
   "metadata": {},
   "outputs": [],
   "source": [
    "import math\n",
    "import time\n",
    "import random\n",
    "from collections import deque\n",
    "from collections import namedtuple\n",
    "from dataclasses import dataclass\n",
    "\n",
    "import numpy as np\n",
    "\n",
    "from tqdm import tqdm\n",
    "\n",
    "import torch\n",
    "import torch.nn as nn\n",
    "import torch.optim as optim\n",
    "import torch.nn.functional as F  #activation function https://pytorch.org/docs/stable/nn.functional.html\n",
    "from torch.profiler import profile, record_function, ProfilerActivity\n",
    "\n",
    "import gym\n",
    "import rl_gym\n",
    "\n",
    "import matplotlib.pyplot as plt\n",
    "\n",
    "from rldqn import RLDQN, RLDQNParams, TrainingRecord"
   ]
  },
  {
   "cell_type": "code",
   "execution_count": 4,
   "id": "fb1d6ddd-3a2e-4450-93ae-a1ea1e50ed96",
   "metadata": {},
   "outputs": [
    {
     "name": "stdout",
     "output_type": "stream",
     "text": [
      "Using device: cpu\n"
     ]
    }
   ],
   "source": [
    "#device = torch.device(\"cuda\" if torch.cuda.is_available() else \"cpu\")\n",
    "device = torch.device(\"cpu\")\n",
    "print('Using device:', device)\n",
    "if device.type == 'cuda':\n",
    "    print(torch.cuda.get_device_name(0))\n",
    "    print('Memory Usage:')\n",
    "    print('Allocated:', round(torch.cuda.memory_allocated(0)/1024**3,1), 'GB')\n",
    "    print('Cached:   ', round(torch.cuda.memory_reserved(0)/1024**3,1), 'GB')\n",
    "    \n",
    "env = gym.make(\"rl_gym/PuckWorld-v0\", fps=60)\n",
    "\n",
    "params = RLDQNParams(num_neurons=128, train_period=1, gamma=0.90, memory_batch=250, epsilon_half_life=100, max_time_steps=400*1000, learning_rate=0.001)\n",
    "\n",
    "dqn = RLDQN(env, params, device=device)"
   ]
  },
  {
   "cell_type": "code",
   "execution_count": 7,
   "id": "e0fef42f-2f24-4fb5-8197-a03a0b1503da",
   "metadata": {},
   "outputs": [
    {
     "name": "stdout",
     "output_type": "stream",
     "text": [
      "Evaluate untrained model\n",
      "------------------------\n",
      "--- 10 seconds ---\n",
      "mean_reward:-738.25 +/- 370.90\n"
     ]
    }
   ],
   "source": [
    "print(\"Evaluate untrained model\")\n",
    "print(\"------------------------\")\n",
    "start_time = time.time()\n",
    "mean_reward, std_reward, scores = dqn.evaluate(env, num_episodes=100, episode_length=600)\n",
    "print(\"--- %0.f seconds ---\" % (time.time() - start_time))\n",
    "print(f\"mean_reward:{mean_reward:.2f} +/- {std_reward:.2f}\")"
   ]
  },
  {
   "cell_type": "code",
   "execution_count": null,
   "id": "28824145-0480-443c-88bc-55623a512f69",
   "metadata": {},
   "outputs": [
    {
     "name": "stdout",
     "output_type": "stream",
     "text": [
      "Train model\n",
      "-----------\n",
      "start training with params:\n",
      "RLDQNParams(num_neurons=128, max_episode_length=600, max_time_steps=400000, train_period=1, learning_rate=0.001, memory_size=50000, memory_batch=250, gamma=0.9, epsilon=0.5, epsilon_min=0.05, epsilon_half_life=100, target_update_rate=0.05, log_recent_episodes=100)\n",
      "Training(t=600, episode=0, episode_t=601, epsilon=0.49653426409720025, score=-386.40708897983137, loss_mean=0.05291391371290313, loss_std=0.11332770635399256)\n",
      "Training(t=60700, episode=100, episode_t=601, epsilon=0.24766868066200204, score=-78.72883765215568, loss_mean=0.02992271338554623, loss_std=0.021861901717934253)\n",
      "Training(t=120800, episode=200, episode_t=601, epsilon=0.12353583592541169, score=-85.89994158767541, loss_mean=0.032828322114611196, loss_std=0.023872244919941655)\n"
     ]
    }
   ],
   "source": [
    "print(\"Train model\")\n",
    "print(\"-----------\")\n",
    "start_time = time.time()\n",
    "dqn.train(env, params)\n",
    "print(\"--- %1.f minutes ---\" % ((time.time() - start_time)/60))\n",
    "\n",
    "log = TrainingRecord(*zip(*dqn.training_record))\n",
    "\n",
    "y = np.array(log.score)\n",
    "#y = np.array(log.loss_mean)\n",
    "#y = np.array(log.loss_std)\n",
    "#y = np.array(log.epsilon)\n",
    "\n",
    "window=50\n",
    "y_runningmean = np.convolve(y, np.ones(window)/window, mode='valid')\n",
    "plt.plot(y)\n",
    "plt.plot(range(int(window/2),len(y)-int(window/2)+1),y_runningmean)"
   ]
  },
  {
   "cell_type": "code",
   "execution_count": null,
   "id": "047017aa-63ec-4def-8c00-326330ee755c",
   "metadata": {},
   "outputs": [],
   "source": [
    "print(\"Evaluate trained model\")\n",
    "print(\"------------------------\")\n",
    "start_time = time.time()\n",
    "mean_reward, std_reward, scores = dqn.evaluate(env, num_episodes=100, episode_length=600)\n",
    "print(\"--- %s seconds ---\" % (time.time() - start_time))\n",
    "print(f\"mean_reward:{mean_reward:.2f} +/- {std_reward:.2f}\")"
   ]
  },
  {
   "cell_type": "code",
   "execution_count": null,
   "id": "14333475-0c03-4f37-82ee-1ed2abc0542c",
   "metadata": {},
   "outputs": [],
   "source": [
    "print(\"Play model\")\n",
    "print(\"----------\")\n",
    "dqn.play(env)"
   ]
  }
 ],
 "metadata": {
  "kernelspec": {
   "display_name": "tfgpu",
   "language": "python",
   "name": "tfgpu"
  },
  "language_info": {
   "codemirror_mode": {
    "name": "ipython",
    "version": 3
   },
   "file_extension": ".py",
   "mimetype": "text/x-python",
   "name": "python",
   "nbconvert_exporter": "python",
   "pygments_lexer": "ipython3",
   "version": "3.8.15"
  }
 },
 "nbformat": 4,
 "nbformat_minor": 5
}
