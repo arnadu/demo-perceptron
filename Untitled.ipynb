{
 "cells": [
  {
   "cell_type": "code",
   "execution_count": null,
   "id": "b0d71a27-30a8-46bd-bd9d-5119754d2035",
   "metadata": {},
   "outputs": [],
   "source": [
    "--- 1.4566495935122172 minutes ---\n",
    "evaluate\n",
    "--- 7.857797861099243 seconds ---\n",
    "mean_reward:-725.63 +/- 360.43"
   ]
  }
 ],
 "metadata": {
  "kernelspec": {
   "display_name": "Python 3 (ipykernel)",
   "language": "python",
   "name": "python3"
  },
  "language_info": {
   "codemirror_mode": {
    "name": "ipython",
    "version": 3
   },
   "file_extension": ".py",
   "mimetype": "text/x-python",
   "name": "python",
   "nbconvert_exporter": "python",
   "pygments_lexer": "ipython3",
   "version": "3.8.15"
  }
 },
 "nbformat": 4,
 "nbformat_minor": 5
}
