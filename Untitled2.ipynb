{
 "cells": [
  {
   "cell_type": "code",
   "execution_count": 5,
   "id": "cf72c84e-9f97-4969-b8fc-5bfb8ffe6ac0",
   "metadata": {},
   "outputs": [
    {
     "ename": "NameError",
     "evalue": "name 'd' is not defined",
     "output_type": "error",
     "traceback": [
      "\u001b[1;31m---------------------------------------------------------------------------\u001b[0m",
      "\u001b[1;31mNameError\u001b[0m                                 Traceback (most recent call last)",
      "Cell \u001b[1;32mIn[5], line 10\u001b[0m\n\u001b[0;32m      8\u001b[0m \u001b[38;5;28;01mfor\u001b[39;00m i \u001b[38;5;129;01min\u001b[39;00m \u001b[38;5;28mrange\u001b[39m(\u001b[38;5;241m5\u001b[39m):\n\u001b[0;32m      9\u001b[0m     p \u001b[38;5;241m=\u001b[39m D(a\u001b[38;5;241m=\u001b[39mi)\n\u001b[1;32m---> 10\u001b[0m     l\u001b[38;5;241m.\u001b[39mappend(\u001b[43md\u001b[49m)\n\u001b[0;32m     12\u001b[0m l\n",
      "\u001b[1;31mNameError\u001b[0m: name 'd' is not defined"
     ]
    }
   ],
   "source": [
    "from dataclasses import dataclass\n",
    "\n",
    "@dataclass\n",
    "class D:\n",
    "    a:int=0\n",
    "\n",
    "l = []\n",
    "for i in range(5):\n",
    "    p = D(a=i)\n",
    "    l.append(d)\n",
    "\n",
    "l\n",
    "\n",
    "    \n",
    "    "
   ]
  },
  {
   "cell_type": "code",
   "execution_count": null,
   "id": "05c57109-7c0b-45be-b6a7-027ba7313bbc",
   "metadata": {},
   "outputs": [],
   "source": []
  }
 ],
 "metadata": {
  "kernelspec": {
   "display_name": "tfgpu",
   "language": "python",
   "name": "tfgpu"
  },
  "language_info": {
   "codemirror_mode": {
    "name": "ipython",
    "version": 3
   },
   "file_extension": ".py",
   "mimetype": "text/x-python",
   "name": "python",
   "nbconvert_exporter": "python",
   "pygments_lexer": "ipython3",
   "version": "3.8.15"
  }
 },
 "nbformat": 4,
 "nbformat_minor": 5
}
