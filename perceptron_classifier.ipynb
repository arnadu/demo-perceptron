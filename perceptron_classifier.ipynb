{
 "cells": [
  {
   "cell_type": "code",
   "execution_count": 386,
   "id": "321512ea",
   "metadata": {},
   "outputs": [],
   "source": [
    "import numpy as np"
   ]
  },
  {
   "cell_type": "markdown",
   "id": "bcbb60d3",
   "metadata": {},
   "source": [
    "Toy implementation of a one-hidden layer classifier <br>\n",
    "loss function = cross-entropy<br>\n",
    "output layer = softmax<br>\n",
    "hidden layer = relu<br>\n",
    "\n",
    "\n",
    "Cross entropy loss function for classification of a batch of several samples :\n",
    "\n",
    "$ loss = \\sum\\limits _{i=0}^{Samples-1} \\sum\\limits_{l=0}^{Categories-1} y_{il} . log(prediction_{il})  $\n",
    "\n",
    "$Samples$: the number of samples in the batch <br>\n",
    "$Categories$ : the number of categories <br>\n",
    "$y[i,l]$ the truth value for the i-th sample, as a one-hot encoded vector over the possible categories<br>\n",
    "$prediction[i,l]$ the predicted categories, a vector of probabilities ]0,1] for the i-th sample <br>\n",
    "\n",
    "$ \\frac {dLoss}{dpred_j} = $"
   ]
  },
  {
   "cell_type": "code",
   "execution_count": 387,
   "id": "1c14ba29",
   "metadata": {},
   "outputs": [
    {
     "data": {
      "text/plain": [
       "(2.513306124309698, array([0.10536052, 2.30258509, 0.10536052]))"
      ]
     },
     "execution_count": 387,
     "metadata": {},
     "output_type": "execute_result"
    }
   ],
   "source": [
    "#CROSS ENTROPY LOSS FUNCTION\n",
    "\n",
    "#prepare a batch of 3 samples with 2 categories\n",
    "#----------------------------\n",
    "\n",
    "y = np.array([[0,1], [1,0], [1,0]])   #one-hot encoded category of each sample\n",
    "pred = np.array([[0.1,0.9], [0.1,0.9], [0.9,0.1]])  #predicted proba of each category for each sample\n",
    "\n",
    "\n",
    "#calculate cross entropy loss for a batch of samples\n",
    "#---------------------------------------------------\n",
    "def cross_entropy_loss(y, pred):\n",
    "    l = -np.log(pred)*y  #calculate y*log(p) for each category of each sample of the batch\n",
    "    individual_losses = np.sum(l, -1)  #sum over categories\n",
    "    batch_loss = np.sum(individual_losses) #sum over samples\n",
    "    return batch_loss, individual_losses\n",
    "\n",
    "#test\n",
    "#------\n",
    "cross_entropy_loss(y, pred)\n",
    "\n",
    "\n",
    "\n",
    "\n"
   ]
  },
  {
   "cell_type": "markdown",
   "id": "310f87ad",
   "metadata": {},
   "source": [
    "SOFTMAX function as output layer\n",
    "\n",
    "$ softmax(z_i) =  \\frac{e^{z_i}}{\\sum\\limits_{k=1}^{Categories}e^{z_k}} $"
   ]
  },
  {
   "cell_type": "code",
   "execution_count": 393,
   "id": "02f1f4a6",
   "metadata": {},
   "outputs": [
    {
     "data": {
      "text/plain": [
       "array([[4.53978687e-05, 9.99954602e-01],\n",
       "       [5.00000000e-01, 5.00000000e-01],\n",
       "       [9.93307149e-01, 6.69285092e-03]])"
      ]
     },
     "execution_count": 393,
     "metadata": {},
     "output_type": "execute_result"
    }
   ],
   "source": [
    "#prepare a batch of 3 samples with 2 categories\n",
    "#-----------------------------------------------\n",
    "\n",
    "\n",
    "z = np.array([[0, 10.], [0.,0.], [0, -5]])  #predicted proba of each category for each sample\n",
    "\n",
    "\n",
    "def softmax(z):\n",
    "    \n",
    "    #input\n",
    "    # z a S*C matrix rows = samples, columns same dimension as number of categories\n",
    "    m = np.max(z)   #normalize to avoid large numbers \n",
    "    e = np.exp(z - m)\n",
    "    return e / e.sum(axis=1, keepdims=True) #[:,None]\n",
    "    \n",
    "   \n",
    "softmax(z)\n",
    "\n"
   ]
  },
  {
   "cell_type": "code",
   "execution_count": 389,
   "id": "1207af67",
   "metadata": {},
   "outputs": [
    {
     "data": {
      "text/plain": [
       "array([0., 0., 1.])"
      ]
     },
     "execution_count": 389,
     "metadata": {},
     "output_type": "execute_result"
    }
   ],
   "source": [
    "\n",
    "def relu(v):\n",
    "    return np.where(v>0., v, 0.)\n",
    "\n",
    "h = np.array([-1.,0.,1.,])\n",
    "relu(h)\n"
   ]
  },
  {
   "cell_type": "code",
   "execution_count": 390,
   "id": "9a1b2396",
   "metadata": {},
   "outputs": [],
   "source": [
    "input_dim = 3\n",
    "layer1_dim = 4\n",
    "output_dim = 2  #2 classes\n",
    "\n",
    "X_train = np.array([[0,0,1], \n",
    "                    [0,1,0],\n",
    "                    [0,1,1],\n",
    "                    [1,0,0],\n",
    "                    [1,0,1]])\n",
    "\n",
    "Y_train = np.array([[0,1],\n",
    "                    [1,0],\n",
    "                    [0,1],\n",
    "                    [1,0],\n",
    "                    [0,1]])\n",
    "\n",
    "def init(seed=1):\n",
    "    \n",
    "    global b1, w1, b2, w2\n",
    "    global g_b1, g_w1, g_b2, g_w2\n",
    "    \n",
    "    np.random.seed(seed)\n",
    "    w1 = 2*np.random.random((input_dim , layer1_dim)) - 1\n",
    "    b1 = 2*np.random.random(layer1_dim) - 1\n",
    "    w2 = 2*np.random.random((layer1_dim, output_dim)) - 1\n",
    "    b2 = 2*np.random.random(output_dim) - 1\n",
    "\n",
    "    g_b2 = np.zeros_like(b2)\n",
    "    g_w2 = np.zeros_like(w2)\n",
    "    g_b1 = np.zeros_like(b1)\n",
    "    g_w1 = np.zeros_like(w1)\n",
    "\n",
    "    #w1 = 1.+np.array(range(0,input_dim*layer1_dim)).reshape(input_dim,layer1_dim)\n",
    "    #b1 = 1.+np.array(range(layer1_dim))\n",
    "    #w2 = 1.+np.array(range(0,layer1_dim*output_dim)).reshape(layer1_dim, output_dim)\n",
    "    #b2 = 1.+np.array(range(output_dim))\n",
    "\n",
    "#h1=relu(np.matmul(X_train,w1) + b1)\n",
    "#softmax(np.matmul(h1,w2)+b2)\n",
    "\n",
    "\n",
    "\n"
   ]
  },
  {
   "cell_type": "code",
   "execution_count": 391,
   "id": "dafe806b",
   "metadata": {},
   "outputs": [
    {
     "data": {
      "text/plain": [
       "(0.0576843351159573,\n",
       " array([[7.95516484e-04, 9.99204484e-01],\n",
       "        [9.66141220e-01, 3.38587805e-02],\n",
       "        [2.72356743e-03, 9.97276433e-01],\n",
       "        [9.87930191e-01, 1.20698094e-02],\n",
       "        [7.54411174e-03, 9.92455888e-01]]))"
      ]
     },
     "execution_count": 391,
     "metadata": {},
     "output_type": "execute_result"
    }
   ],
   "source": [
    "\n",
    "def forward(X):\n",
    "\n",
    "    '''\n",
    "    X is expected to be shape=(S,I) \n",
    "    S: is the number of samples in a batch\n",
    "    I: the number of input values for each sample\n",
    "    '''\n",
    "\n",
    "    global b1, w1, b2, w2\n",
    "    global g_b1, g_w1, g_b2, g_w2\n",
    "\n",
    "    global layer1_v, layer1_o\n",
    "    global layer2_v, layer2_o\n",
    "    \n",
    "    #forward \n",
    "    #matmul will return a matrix of size SxL1 where L1 is size of layer1\n",
    "    layer1_v = np.matmul(X,w1) + b1\n",
    "    layer1_o = relu(layer1_v)  #shape=(S,L1)\n",
    "\n",
    "    layer2_v = np.matmul(layer1_o,w2) + b2  #shape=(S,C) where C is size of output=number of categories\n",
    "    layer2_o = softmax(layer2_v)  #shape=(S,C)\n",
    "    \n",
    "    return layer2_o\n",
    "\n",
    "\n",
    "def backrop_weights(X,Y):\n",
    "\n",
    "    global b1, w1, b2, w2\n",
    "    global g_b1, g_w1, g_b2, g_w2\n",
    "\n",
    "    global layer1_v, layer1_o\n",
    "    global layer2_v, layer2_o\n",
    "    \n",
    "    g_b2 = np.zeros_like(b2)\n",
    "    g_w2 = np.zeros_like(w2)\n",
    "    g_b1 = np.zeros_like(b1)\n",
    "    g_w1 = np.zeros_like(w1)\n",
    "    \n",
    "    g_loss_softmax = -(Y-layer2_o)  #shape=S,C\n",
    "\n",
    "    g_b2 = np.sum(g_loss_softmax, axis=0) #shape C; sum(axis=0) is sum over samples\n",
    "\n",
    "    g_w2 = np.einsum(\"ij,ik\",layer1_o, g_loss_softmax)\n",
    "    \n",
    "    dRelu = np.where(layer1_v>0., 1., 0.)  #shape=S,L1\n",
    "\n",
    "    g_b1 += np.einsum(\"il,kl,ik->k\",g_loss_softmax,w2,dRelu)\n",
    "\n",
    "    g_w1 += np.einsum(\"il,kl,ik,ij->jk\",g_loss_softmax,w2,dRelu,X)\n",
    "    \n",
    "    b2 -= alpha * g_b2 / X.shape[0] #average over number of samples\n",
    "    w2 -= alpha * g_w2 / X.shape[0]\n",
    "    b1 -= alpha * g_b1 / X.shape[0]\n",
    "    w1 -= alpha * g_w1 / X.shape[0]\n",
    "    \n",
    "    return g_b1, g_w1, g_b2, g_w2\n",
    "    \n",
    "def train(X, Y, num_periods, alpha=0.1):\n",
    "    \n",
    "    global b1, w1, b2, w2\n",
    "    global g_b1, g_w1, g_b2, g_w2\n",
    "    \n",
    "    for p in range(num_periods):\n",
    "        \n",
    "        batch_X = X #[0:1,:]\n",
    "        batch_Y = Y #[0:1,:]\n",
    "        #print(\"batch_X:\",batch_X)\n",
    "        \n",
    "        pred = forward(batch_X)\n",
    "        loss, _ = cross_entropy_loss(batch_Y, pred)  #loss scalar, _ is vector of size S, total loss for entire batch, loss for each sample of batch\n",
    "        #print(p,loss)\n",
    "\n",
    "        '''\n",
    "        eps=0.001\n",
    "        fg_b2 = np.zeros_like(b2)\n",
    "        for i in range(b2.shape[0]):\n",
    "            b2[i] += eps\n",
    "            loss1, _ = cross_entropy_loss(batch_Y, forward(batch_X))\n",
    "            fg_b2[i] = (loss1-loss)/eps\n",
    "            b2[i] -= eps\n",
    "        forward(X)\n",
    "\n",
    "        eps=0.001\n",
    "        fg_b1 = np.zeros_like(b1)\n",
    "        for i in range(b1.shape[0]):\n",
    "            b1[i] += eps\n",
    "            loss1, _ = cross_entropy_loss(batch_Y, forward(batch_X))\n",
    "            fg_b1[i] = (loss1-loss)/eps\n",
    "            b1[i] -= eps\n",
    "        forward(X)\n",
    "\n",
    "        eps=0.001\n",
    "        fg_w2 = np.zeros_like(w2)\n",
    "        for i in range(w2.shape[0]):\n",
    "            for j in range(w2.shape[1]):\n",
    "                w2[i][j] += eps\n",
    "                loss1, _ = cross_entropy_loss(batch_Y, forward(batch_X))\n",
    "                fg_w2[i][j] = (loss1-loss)/eps\n",
    "                w2[i][j] -= eps\n",
    "        forward(X)\n",
    "        \n",
    "        eps=0.001\n",
    "        fg_w1 = np.zeros_like(w1)\n",
    "        for i in range(w1.shape[0]):\n",
    "            for j in range(w1.shape[1]):\n",
    "                w1[i][j] += eps\n",
    "                loss1, _ = cross_entropy_loss(batch_Y, forward(batch_X))\n",
    "                fg_w1[i][j] = (loss1-loss)/eps\n",
    "                w1[i][j] -= eps\n",
    "        forward(batch_X)\n",
    "       ''' \n",
    "        \n",
    "        backrop_weights(batch_X, batch_Y)\n",
    "#        print(fg_b1, g_b1)\n",
    "#        print(fg_b2, g_b2)\n",
    "#        print(fg_w1, g_w1)\n",
    "#        print(fg_w2,g_w2)\n",
    "\n",
    "    \n",
    "    return loss, pred\n",
    "\n",
    "init()\n",
    "train(X_train, Y_train, 100)\n",
    "\n"
   ]
  },
  {
   "cell_type": "code",
   "execution_count": null,
   "id": "e4a9ea0f",
   "metadata": {},
   "outputs": [],
   "source": []
  },
  {
   "cell_type": "code",
   "execution_count": 392,
   "id": "8ce1feee",
   "metadata": {},
   "outputs": [
    {
     "data": {
      "image/png": "[encoded data removed]",
      "text/plain": [
       "<Figure size 432x288 with 1 Axes>"
      ]
     },
     "metadata": {
      "needs_background": "light"
     },
     "output_type": "display_data"
    }
   ],
   "source": [
    "import matplotlib.pyplot as plt\n",
    "\n",
    "\n",
    "input_dim = 3\n",
    "layer1_dim = 5\n",
    "output_dim = 2  #2 classes\n",
    "\n",
    "S=100 #number of samples\n",
    "\n",
    "X1 = 2*np.random.rand(S,3) - 1\n",
    "\n",
    "Y1 = np.zeros((S,2))\n",
    "Y1[:,0] = np.where(X1[:,0]+X1[:,1]+X1[:,2]>0,1,0)\n",
    "Y1[:,1] = np.where(X1[:,0]+X1[:,1]+X1[:,2]>0,0,1)\n",
    "\n",
    "\n",
    "\n",
    "#plt.scatter(X1[:,0],X1[:,1],c=color,alpha=0.5)\n",
    "init(1)\n",
    "train(X1,Y1,100, alpha=0.1)\n",
    "\n",
    "pred = forward(X1)\n",
    "\n",
    "color = np.where(Y1[:,0]>0,\"red\",\"blue\")\n",
    "marker = np.where(pred[:,0]>0.5,\"o\",\"s\")\n",
    "\n",
    "fig = plt.figure()\n",
    "#ax = fig.add_subplot(projection='3d')\n",
    "ax = fig.add_subplot()\n",
    "for i in range(X1.shape[0]):\n",
    "    ax.scatter(X1[i,0],X1[i,1],c=color[i],marker=marker[i],alpha=0.5)\n",
    "    ax.scatter(X1[i,0],X1[i,1],c=color[i],marker=marker[i],alpha=0.5)\n",
    "plt.show()\n",
    "\n"
   ]
  },
  {
   "cell_type": "code",
   "execution_count": null,
   "id": "8abab007",
   "metadata": {},
   "outputs": [],
   "source": []
  },
  {
   "cell_type": "code",
   "execution_count": null,
   "id": "ad0ea25c",
   "metadata": {},
   "outputs": [],
   "source": []
  }
 ],
 "metadata": {
  "kernelspec": {
   "display_name": "Python 3 (ipykernel)",
   "language": "python",
   "name": "python3"
  },
  "language_info": {
   "codemirror_mode": {
    "name": "ipython",
    "version": 3
   },
   "file_extension": ".py",
   "mimetype": "text/x-python",
   "name": "python",
   "nbconvert_exporter": "python",
   "pygments_lexer": "ipython3",
   "version": "3.8.12"
  }
 },
 "nbformat": 4,
 "nbformat_minor": 5
}
